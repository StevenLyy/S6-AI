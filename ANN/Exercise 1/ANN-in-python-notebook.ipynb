{
 "cells": [
  {
   "cell_type": "code",
   "execution_count": 2,
   "id": "initial_id",
   "metadata": {
    "collapsed": true,
    "ExecuteTime": {
     "end_time": "2024-03-10T13:58:59.000693Z",
     "start_time": "2024-03-10T13:58:14.661121Z"
    }
   },
   "outputs": [
    {
     "name": "stdout",
     "output_type": "stream",
     "text": [
      "Epoch 0 : 8011 / 10000\n",
      "Epoch 1 : 8271 / 10000\n",
      "Epoch 2 : 8325 / 10000\n",
      "Epoch 3 : 8354 / 10000\n",
      "Epoch 4 : 8324 / 10000\n",
      "Epoch 5 : 8333 / 10000\n",
      "Epoch 6 : 8369 / 10000\n",
      "Epoch 7 : 8349 / 10000\n",
      "Epoch 8 : 8392 / 10000\n",
      "Epoch 9 : 8373 / 10000\n",
      "Epoch 10 : 8386 / 10000\n",
      "Epoch 11 : 8362 / 10000\n",
      "Epoch 12 : 8358 / 10000\n",
      "Epoch 13 : 8373 / 10000\n",
      "Epoch 14 : 8348 / 10000\n",
      "Epoch 15 : 8402 / 10000\n",
      "Epoch 16 : 8387 / 10000\n",
      "Epoch 17 : 8386 / 10000\n",
      "Epoch 18 : 8375 / 10000\n",
      "Epoch 19 : 8388 / 10000\n",
      "Epoch 20 : 8388 / 10000\n",
      "Epoch 21 : 8392 / 10000\n",
      "Epoch 22 : 8372 / 10000\n",
      "Epoch 23 : 8375 / 10000\n",
      "Epoch 24 : 8373 / 10000\n",
      "Epoch 25 : 8381 / 10000\n",
      "Epoch 26 : 8387 / 10000\n",
      "Epoch 27 : 8394 / 10000\n",
      "Epoch 28 : 8383 / 10000\n",
      "Epoch 29 : 8394 / 10000\n"
     ]
    }
   ],
   "source": [
    "from network import Network\n",
    "import mnist_loader\n",
    "\n",
    "training_data, validation_data, test_data = mnist_loader.load_data_wrapper()\n",
    "\n",
    "neural_network = Network([784, 10])\n",
    "\n",
    "neural_network.SGD(training_data, 30, 10, 3.0, test_data=test_data)"
   ]
  },
  {
   "cell_type": "code",
   "outputs": [
    {
     "name": "stdout",
     "output_type": "stream",
     "text": [
      "Epoch 0 : 9042 / 10000\n",
      "Epoch 1 : 9265 / 10000\n",
      "Epoch 2 : 9247 / 10000\n",
      "Epoch 3 : 9364 / 10000\n",
      "Epoch 4 : 9358 / 10000\n",
      "Epoch 5 : 9411 / 10000\n",
      "Epoch 6 : 9403 / 10000\n",
      "Epoch 7 : 9385 / 10000\n",
      "Epoch 8 : 9403 / 10000\n",
      "Epoch 9 : 9414 / 10000\n",
      "Epoch 10 : 9431 / 10000\n",
      "Epoch 11 : 9435 / 10000\n",
      "Epoch 12 : 9452 / 10000\n",
      "Epoch 13 : 9435 / 10000\n",
      "Epoch 14 : 9450 / 10000\n",
      "Epoch 15 : 9462 / 10000\n",
      "Epoch 16 : 9460 / 10000\n",
      "Epoch 17 : 9456 / 10000\n",
      "Epoch 18 : 9473 / 10000\n",
      "Epoch 19 : 9460 / 10000\n",
      "Epoch 20 : 9459 / 10000\n",
      "Epoch 21 : 9492 / 10000\n",
      "Epoch 22 : 9473 / 10000\n",
      "Epoch 23 : 9479 / 10000\n",
      "Epoch 24 : 9510 / 10000\n",
      "Epoch 25 : 9509 / 10000\n",
      "Epoch 26 : 9486 / 10000\n",
      "Epoch 27 : 9490 / 10000\n",
      "Epoch 28 : 9494 / 10000\n",
      "Epoch 29 : 9469 / 10000\n"
     ]
    }
   ],
   "source": [
    "training_data, validation_data, test_data = mnist_loader.load_data_wrapper()\n",
    "\n",
    "neural_network = Network([784, 30, 10])\n",
    "\n",
    "neural_network.SGD(training_data, 30, 10, 3.0, test_data=test_data)"
   ],
   "metadata": {
    "collapsed": false,
    "ExecuteTime": {
     "end_time": "2024-03-10T14:25:18.872831Z",
     "start_time": "2024-03-10T14:23:46.668511Z"
    }
   },
   "id": "e33312551659a94a",
   "execution_count": 7
  }
 ],
 "metadata": {
  "kernelspec": {
   "display_name": "Python 3",
   "language": "python",
   "name": "python3"
  },
  "language_info": {
   "codemirror_mode": {
    "name": "ipython",
    "version": 2
   },
   "file_extension": ".py",
   "mimetype": "text/x-python",
   "name": "python",
   "nbconvert_exporter": "python",
   "pygments_lexer": "ipython2",
   "version": "2.7.6"
  }
 },
 "nbformat": 4,
 "nbformat_minor": 5
}
